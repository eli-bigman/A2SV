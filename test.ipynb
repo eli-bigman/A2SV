{
 "cells": [
  {
   "cell_type": "markdown",
   "metadata": {},
   "source": [
    "\n",
    "# Code Testing Notebook\n",
    "\n",
    "This notebook is designed to test various pieces of code for proper functionality. It includes functions for summing elements in arrays, finding pairs in dictionaries, and other utility functions. Each cell contains specific code snippets that can be executed independently to verify their correctness.\n",
    "\n",
    "## Contents\n",
    "\n",
    "1. **Function Definitions**: Cells containing function definitions for various utility operations.\n",
    "2. **Function Testing**: Cells that test the defined functions with sample data.\n",
    "3. **Results**: Output cells displaying the results of the function tests.\n",
    "\n",
    "Use this notebook to experiment with and validate your code snippets.\n",
    "\n",
    "- **Data Structures and Algorithms (DSA)**: Functions and tests related to DSA concepts."
   ]
  },
  {
   "cell_type": "code",
   "execution_count": 18,
   "metadata": {},
   "outputs": [],
   "source": [
    "def sum_dict(arr):\n",
    "    res = {}\n",
    "    total = sum(arr)\n",
    "    for idx,v in enumerate(arr):\n",
    "        arr_sum = total - v\n",
    "        res[idx] = arr_sum\n",
    "    return res\n",
    "\n",
    "def find_pairs(arrays):\n",
    "    dict_list = []\n",
    "    for arr in arrays:\n",
    "        dict_list.append(sum_dict(arr))\n",
    "    \n",
    "    seen_values = {}\n",
    "    res = []\n",
    "    for i in range(len(dict_list)):\n",
    "        for idx, s in dict_list[i].items():\n",
    "            if s in seen_values:\n",
    "                res.append(seen_values[s], (i+1, idx+1))\n",
    "                return res\n",
    "            seen_values[s] = (i+1, idx+1)\n",
    "    return res\n",
    "\n",
    "   \n"
   ]
  },
  {
   "cell_type": "code",
   "execution_count": 15,
   "metadata": {},
   "outputs": [
    {
     "name": "stdout",
     "output_type": "stream",
     "text": [
      "[]\n",
      "hello\n"
     ]
    }
   ],
   "source": [
    "res = find_pairs([{1: 9, 34: 79, 5: 9, 74: 0}, {0: 9, 1: 8, 2: 10, 3: 8, 4: 9}])\n",
    "print(res)\n",
    "print(\"hello\")"
   ]
  },
  {
   "cell_type": "code",
   "execution_count": 1,
   "metadata": {},
   "outputs": [
    {
     "data": {
      "text/plain": [
       "{0: 14, 1: 13, 2: 12, 3: 11, 4: 10}"
      ]
     },
     "execution_count": 1,
     "metadata": {},
     "output_type": "execute_result"
    }
   ],
   "source": [
    "def sum_dict1(arr):\n",
    "    res = {}\n",
    "    total = sum(arr)\n",
    "    for idx,v in enumerate(arr):\n",
    "        arr_sum = total - v\n",
    "        res[idx] = arr_sum\n",
    "    return res\n",
    "\n",
    "\n",
    "sum_dict1([1,2,3,4,5])"
   ]
  },
  {
   "cell_type": "markdown",
   "metadata": {},
   "source": []
  },
  {
   "cell_type": "code",
   "execution_count": null,
   "metadata": {},
   "outputs": [],
   "source": []
  }
 ],
 "metadata": {
  "kernelspec": {
   "display_name": "Python 3",
   "language": "python",
   "name": "python3"
  },
  "language_info": {
   "codemirror_mode": {
    "name": "ipython",
    "version": 3
   },
   "file_extension": ".py",
   "mimetype": "text/x-python",
   "name": "python",
   "nbconvert_exporter": "python",
   "pygments_lexer": "ipython3",
   "version": "3.11.0"
  }
 },
 "nbformat": 4,
 "nbformat_minor": 2
}
